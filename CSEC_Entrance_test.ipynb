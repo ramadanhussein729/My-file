{
  "nbformat": 4,
  "nbformat_minor": 0,
  "metadata": {
    "colab": {
      "provenance": [],
      "authorship_tag": "ABX9TyMOGMlXsvO4EIS3pZhS/abK",
      "include_colab_link": true
    },
    "kernelspec": {
      "name": "python3",
      "display_name": "Python 3"
    },
    "language_info": {
      "name": "python"
    }
  },
  "cells": [
    {
      "cell_type": "markdown",
      "metadata": {
        "id": "view-in-github",
        "colab_type": "text"
      },
      "source": [
        "<a href=\"https://colab.research.google.com/github/ramadanhussein729/My-file/blob/main/CSEC_Entrance_test.ipynb\" target=\"_parent\"><img src=\"https://colab.research.google.com/assets/colab-badge.svg\" alt=\"Open In Colab\"/></a>"
      ]
    },
    {
      "cell_type": "markdown",
      "source": [
        "# **Answer**"
      ],
      "metadata": {
        "id": "9RkFSj3mDSl6"
      }
    },
    {
      "cell_type": "markdown",
      "source": [
        "1. **LIST** is an orderd collection of elements that can store multiple values in one variable.\n",
        "\n",
        "\n",
        "*   it is orderd\n",
        "*   it is mutable\n",
        "*   it is mixed data type\n",
        "\n",
        "\n",
        "\n",
        "\n"
      ],
      "metadata": {
        "id": "qfykc23wIKzu"
      }
    },
    {
      "cell_type": "code",
      "source": [
        "my_list = [1,3.14,\"chach\"]\n",
        "print(my_list)"
      ],
      "metadata": {
        "colab": {
          "base_uri": "https://localhost:8080/"
        },
        "id": "MIZgLgykJBEv",
        "outputId": "e8f30545-3e08-42d9-dd35-e0cc1701ca2d"
      },
      "execution_count": null,
      "outputs": [
        {
          "output_type": "stream",
          "name": "stdout",
          "text": [
            "[1, 3.14, 'chach']\n"
          ]
        }
      ]
    },
    {
      "cell_type": "markdown",
      "source": [
        "***dictionary*** is an unordered of key-value pair.\n",
        "\n",
        "\n",
        "*   unordered\n",
        "*   mutable\n",
        "\n",
        "*   key must be uniqe and immutable.\n",
        "\n",
        "\n",
        "\n"
      ],
      "metadata": {
        "id": "npmTHtJEJjhu"
      }
    },
    {
      "cell_type": "code",
      "source": [
        "my_dic ={\"ramadan\": \"alice\", \"age\": 20}\n",
        "print(my_dic)"
      ],
      "metadata": {
        "colab": {
          "base_uri": "https://localhost:8080/"
        },
        "id": "um3piDwYKOFE",
        "outputId": "cce06914-b12f-4e70-de01-b83b9c4858d6"
      },
      "execution_count": null,
      "outputs": [
        {
          "output_type": "stream",
          "name": "stdout",
          "text": [
            "{'ramadan': 'alice', 'age': 20}\n"
          ]
        }
      ]
    },
    {
      "cell_type": "markdown",
      "source": [
        "***numpy array*** is a poerful N-dimensional array object provided by Numpy library.\n",
        "\n",
        "\n",
        "*   homogeneous\n",
        "*   support multi dimensional array\n",
        "*   provides efficient storage and operations for numerical data.\n",
        "\n",
        "\n",
        "\n"
      ],
      "metadata": {
        "id": "uj62fHkSKtXt"
      }
    },
    {
      "cell_type": "code",
      "source": [
        "import numpy as np\n",
        "my_array =np.array([1,2,3,4])\n",
        "print(my_array)"
      ],
      "metadata": {
        "colab": {
          "base_uri": "https://localhost:8080/"
        },
        "id": "DrX97ml7MKmB",
        "outputId": "4bc31fa5-94b8-4f9f-b2d6-877fd077fe0a"
      },
      "execution_count": null,
      "outputs": [
        {
          "output_type": "stream",
          "name": "stdout",
          "text": [
            "[1 2 3 4]\n"
          ]
        }
      ]
    },
    {
      "cell_type": "markdown",
      "source": [
        "2. writting code that give square of even number of the list"
      ],
      "metadata": {
        "id": "pUDNPIA5OBDL"
      }
    },
    {
      "cell_type": "code",
      "source": [
        "numbers = [ 10,15,20,25,30]\n",
        "def square_of_evens(numbers):\n",
        "  return [num**2 for num in numbers if num % 2 == 0]\n",
        "  result = square_of_evens(numbers)\n",
        "  print(result)\n",
        "square_of_evens(numbers)"
      ],
      "metadata": {
        "colab": {
          "base_uri": "https://localhost:8080/"
        },
        "id": "RJ_BUTJCOTHR",
        "outputId": "065ae7d1-f9d7-405a-9b15-6f014cf2af55"
      },
      "execution_count": null,
      "outputs": [
        {
          "output_type": "execute_result",
          "data": {
            "text/plain": [
              "[100, 400, 900]"
            ]
          },
          "metadata": {},
          "execution_count": 12
        }
      ]
    },
    {
      "cell_type": "markdown",
      "source": [
        "3. output of the code is [1,2,3,4] since y references the same list as x appending 4 modifies that shared list."
      ],
      "metadata": {
        "id": "PBy4QaqeQv6u"
      }
    },
    {
      "cell_type": "markdown",
      "source": [
        "# 4. **.shape()**\n",
        "it attribute returns a tuple representing the dimensionality of the dataframe.\n",
        "it tell: number of rows and columens."
      ],
      "metadata": {
        "id": "E_o4tgtdSilB"
      }
    },
    {
      "cell_type": "code",
      "source": [
        "import pandas as pd\n",
        "data = {'A':[1,2,3,4,5],'B':[10.0,20.5,30.0,None,50.0],'C':['a','b','c','d','e']}\n",
        "df = pd.DataFrame(data)\n",
        "print(df.shape)"
      ],
      "metadata": {
        "colab": {
          "base_uri": "https://localhost:8080/"
        },
        "id": "xWzzx-XlTNOb",
        "outputId": "695c8a92-d33b-4dd5-beda-6f24f8f8e3d6"
      },
      "execution_count": null,
      "outputs": [
        {
          "output_type": "stream",
          "name": "stdout",
          "text": [
            "(5, 3)\n"
          ]
        }
      ]
    },
    {
      "cell_type": "markdown",
      "source": [
        "# .describe()**bold text**\n",
        "it is used to generates descriptive statistics that summarize the centeral tendancy,dispersion, and shape of a datasets distribution."
      ],
      "metadata": {
        "id": "8mcmi7aXVAyG"
      }
    },
    {
      "cell_type": "code",
      "source": [
        "import pandas as pd\n",
        "data = {'A':[1,2,3,4,5],'B':[10.0,20.5,30.0,None,50.0],'C':['a','b','c','d','e']}\n",
        "df = pd.DataFrame(data)\n",
        "print(df.describe())"
      ],
      "metadata": {
        "colab": {
          "base_uri": "https://localhost:8080/"
        },
        "id": "MPAuhW-DV9KM",
        "outputId": "df16bd80-3f84-4e4c-c993-710ca656a7c6"
      },
      "execution_count": null,
      "outputs": [
        {
          "output_type": "stream",
          "name": "stdout",
          "text": [
            "              A          B\n",
            "count  5.000000   4.000000\n",
            "mean   3.000000  27.625000\n",
            "std    1.581139  17.006739\n",
            "min    1.000000  10.000000\n",
            "25%    2.000000  17.875000\n",
            "50%    3.000000  25.250000\n",
            "75%    4.000000  35.000000\n",
            "max    5.000000  50.000000\n"
          ]
        }
      ]
    },
    {
      "cell_type": "markdown",
      "source": [
        "5.let assume airtravel.csv has tabular form( month vs passengers number per year)"
      ],
      "metadata": {
        "id": "LnIDNzECWp44"
      }
    },
    {
      "cell_type": "code",
      "source": [
        "import pandas as pd\n",
        "df = pd.read_csv('airtravel.csv')\n",
        "print(df)"
      ],
      "metadata": {
        "id": "Kg0XJtPoYE58"
      },
      "execution_count": null,
      "outputs": []
    },
    {
      "cell_type": "markdown",
      "source": [
        "6. let assume we have already loaded tne csv airtravel.csv ."
      ],
      "metadata": {
        "id": "nvs9Y73yYLzQ"
      }
    },
    {
      "cell_type": "code",
      "source": [
        "import pandas as pd\n",
        "df = pd.read_csv('airtravel.csv')\n",
        "#month with highest total passengers (sum over all year)\n",
        "df['Total'] = df[['1958','1959','1960']].sum(axis=1)\n",
        "max_month = df.loc[df['Total'].idxmax(), 'Month']\n",
        "print(\"month with highest totalpassengr:\", max_month)\n",
        "\n",
        "# month with the lowest passengers in 1958\n",
        "min_month = df.loc[df['1958'].idxmin(), 'month']\n",
        "print(\"month with the lowest passengers in 1958:\", min_month)"
      ],
      "metadata": {
        "id": "ddIY52H_beSD"
      },
      "execution_count": null,
      "outputs": []
    },
    {
      "cell_type": "markdown",
      "source": [
        "7. **groupby() function in pandas** is a poweful tool used for splitting a dataframe into groups based on some criteria. the typical workflow involves three steps: split, apply, and combine."
      ],
      "metadata": {
        "id": "16NCctznfums"
      }
    },
    {
      "cell_type": "code",
      "source": [
        "import pandas as pd\n",
        "data = {'product_catagory':['electronics','clothing','shoeses','groceries'], 'sales_amount':[200,150,300,100,],'quantity_solid':[2,3,4,1,]}\n",
        "df = pd.DataFrame(data)\n",
        "print(df)\n",
        "# grouping the date.\n",
        "grouped_data = df.groupby('product_catagory')\n",
        "total_sales = grouped_data['sales_amount'].sum()\n",
        "print(total_sales)"
      ],
      "metadata": {
        "colab": {
          "base_uri": "https://localhost:8080/"
        },
        "id": "EG8OZ0wxg0_O",
        "outputId": "4830dc9c-2480-4ba9-ba89-736c3befdeea"
      },
      "execution_count": null,
      "outputs": [
        {
          "output_type": "stream",
          "name": "stdout",
          "text": [
            "  product_catagory  sales_amount  quantity_solid\n",
            "0      electronics           200               2\n",
            "1         clothing           150               3\n",
            "2          shoeses           300               4\n",
            "3        groceries           100               1\n",
            "product_catagory\n",
            "clothing       150\n",
            "electronics    200\n",
            "groceries      100\n",
            "shoeses        300\n",
            "Name: sales_amount, dtype: int64\n"
          ]
        }
      ]
    },
    {
      "cell_type": "markdown",
      "source": [
        "8. lading th TD and CMVs."
      ],
      "metadata": {
        "id": "_Tn5OjqEj-yL"
      }
    },
    {
      "cell_type": "code",
      "source": [
        "import pandas as pd\n",
        "import seaborn as sns\n",
        "#load the titanic dataset.\n",
        "titanic_df = sns.load_dataset('titanic')\n",
        "# count missing values.\n",
        "missing_values = titanic_df.isnull().sum()\n",
        "print(missing_values)"
      ],
      "metadata": {
        "colab": {
          "base_uri": "https://localhost:8080/"
        },
        "id": "weTHfRTVk-A0",
        "outputId": "a636ad0e-e5f6-4c59-8399-7d7d23e3cd67"
      },
      "execution_count": null,
      "outputs": [
        {
          "output_type": "stream",
          "name": "stdout",
          "text": [
            "survived         0\n",
            "pclass           0\n",
            "sex              0\n",
            "age            177\n",
            "sibsp            0\n",
            "parch            0\n",
            "fare             0\n",
            "embarked         2\n",
            "class            0\n",
            "who              0\n",
            "adult_male       0\n",
            "deck           688\n",
            "embark_town      2\n",
            "alive            0\n",
            "alone            0\n",
            "dtype: int64\n"
          ]
        }
      ]
    },
    {
      "cell_type": "markdown",
      "source": [
        "9. let visualize the age distribution in titanic dataset using a histogram."
      ],
      "metadata": {
        "id": "nBvPGvl2l92Z"
      }
    },
    {
      "cell_type": "code",
      "source": [
        "import seaborn as sns\n",
        "import pandas as pd\n",
        "import matplotlib.pyplot as plt\n",
        "# load dataset.\n",
        "titanic = sns.load_dataset('titanic')\n",
        "#plot histogram of age colum.\n",
        "titanic['age'].hist(bins=30, edgecolor='black')\n",
        "plt.xlabel('age')\n",
        "plt.ylabel('number of passengers')\n",
        "plt.title('age distribution in titanic')\n",
        "plt.grid(False)\n",
        "plt.show()"
      ],
      "metadata": {
        "colab": {
          "base_uri": "https://localhost:8080/",
          "height": 472
        },
        "id": "XdvqumwSnUh0",
        "outputId": "979ed745-b598-4128-c9e4-c6573f897ce4"
      },
      "execution_count": null,
      "outputs": [
        {
          "output_type": "display_data",
          "data": {
            "text/plain": [
              "<Figure size 640x480 with 1 Axes>"
            ],
            "image/png": "[encoded data removed]"
          },
          "metadata": {}
        }
      ]
    },
    {
      "cell_type": "markdown",
      "source": [
        "10. ***standard devistion*** is a ststical measure that quantifies th amount of variation or dispersion in a set of values.\n",
        "\n",
        "*high standard devation* indicates that the data point are spread out over a wider range of values.\n",
        "\n",
        "***low standard deviation*** suggests that the points tend to be close to the mean(average) of the dataset."
      ],
      "metadata": {
        "id": "z9CpVlBjpuey"
      }
    },
    {
      "cell_type": "code",
      "source": [
        "import pandas as pd\n",
        "# high standard deviation.\n",
        "high_std = [10,100,5,150,2,120,200]\n",
        "high_series = pd.Series(high_std)\n",
        "print(\"high standard deviation:\", high_series.std())\n",
        "\n",
        "# low standard deviation.\n",
        "low_std = [50,51,49,50,50,51,49]\n",
        "low_series = pd.Series(low_std)\n",
        "print(\"low standard deviation:\", low_series.std())"
      ],
      "metadata": {
        "colab": {
          "base_uri": "https://localhost:8080/"
        },
        "id": "K_nSDeI-r8gj",
        "outputId": "0df166c6-c4e1-4a74-8771-d7c24b65ef87"
      },
      "execution_count": null,
      "outputs": [
        {
          "output_type": "stream",
          "name": "stdout",
          "text": [
            "high standard deviation: 79.37763868879902\n",
            "low standard deviation: 0.816496580927726\n"
          ]
        }
      ]
    },
    {
      "cell_type": "markdown",
      "source": [
        "11. missing datacan serously affect the quality or reliability of our work.\n",
        "example: 1, in healthcare(patient medical record). if the glucose levels or family history are missing for many patients, the prediction model coud become inaccurate. critical diagnoses may be missed or wrongly classified. 2, finance(loan approval and credit scoreung). if income or employment history is missing the model might unfairly reject a creditworthy costomer or approval a risky one."
      ],
      "metadata": {
        "id": "A8tOwZvLvw24"
      }
    }
  ]
}